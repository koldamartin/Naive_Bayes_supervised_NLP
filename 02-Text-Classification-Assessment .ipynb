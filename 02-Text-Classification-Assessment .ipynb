{
 "cells":[
  {
   "cell_type":"markdown",
   "source":[
    "___\n",
    "\n",
    "<a href='http:\/\/www.pieriandata.com'> <img src='..\/Pierian_Data_Logo.png' \/><\/a>\n",
    "___"
   ],
   "attachments":{
    
   },
   "metadata":{
    "datalore":{
     "node_id":"9dnK3cN6phHDrCPxkX6vLa",
     "type":"MD",
     "hide_input_from_viewers":false,
     "hide_output_from_viewers":false,
     "report_properties":{
      "rowId":"ViDhLk0bG98aXOs955XfU4"
     }
    }
   }
  },
  {
   "cell_type":"markdown",
   "source":[
    "# Text Classification Assessment \n",
    "\n",
    "### Goal: Given a set of text movie reviews that have been labeled negative or positive\n",
    "\n",
    "For more information on this dataset visit http:\/\/ai.stanford.edu\/~amaas\/data\/sentiment\/\n",
    "\n",
    "## Complete the tasks in bold below!"
   ],
   "attachments":{
    
   },
   "metadata":{
    "datalore":{
     "node_id":"prWoPwpPVeTmUfm2wYLvi1",
     "type":"MD",
     "hide_input_from_viewers":false,
     "hide_output_from_viewers":false,
     "report_properties":{
      "rowId":"DWBJPku76izVxV9INUvu8y"
     }
    }
   }
  },
  {
   "cell_type":"markdown",
   "source":[
    "**Task: Perform imports and load the dataset into a pandas DataFrame**\n",
    "For this exercise you can load the dataset from `'..\/DATA\/moviereviews.csv'`."
   ],
   "attachments":{
    
   },
   "metadata":{
    "datalore":{
     "node_id":"gsYuU3VfO5fNJtotRqypCJ",
     "type":"MD",
     "hide_input_from_viewers":false,
     "hide_output_from_viewers":false,
     "report_properties":{
      "rowId":"fPuE9r2Uff2NLN42xQJJbY"
     }
    }
   }
  },
  {
   "cell_type":"code",
   "source":[
    "import numpy as np\n",
    "import pandas as pd\n",
    "import seaborn as sns\n",
    "import matplotlib.pyplot as plt"
   ],
   "execution_count":49,
   "outputs":[
    
   ],
   "metadata":{
    "datalore":{
     "node_id":"UWCQKZaxqFN39s0duKWcLS",
     "type":"CODE",
     "hide_input_from_viewers":false,
     "hide_output_from_viewers":false,
     "report_properties":{
      "rowId":"ThFomxN3ANOjMjgYMmdwgK"
     }
    }
   }
  },
  {
   "cell_type":"code",
   "source":[
    "df = pd.read_csv('.\/DATA\/moviereviews.csv')"
   ],
   "execution_count":2,
   "outputs":[
    
   ],
   "metadata":{
    "datalore":{
     "node_id":"IQXsZstLSJe8cRX07IPj0c",
     "type":"CODE",
     "hide_input_from_viewers":false,
     "hide_output_from_viewers":false,
     "report_properties":{
      "rowId":"yX5yqX5GL7wfq1LNVOwATv"
     }
    }
   }
  },
  {
   "cell_type":"code",
   "source":[
    "df.head()"
   ],
   "execution_count":3,
   "outputs":[
    {
     "data":{
      "text\/html":[
       "<div>\n",
       "<style scoped>\n",
       "    .dataframe tbody tr th:only-of-type {\n",
       "        vertical-align: middle;\n",
       "    }\n",
       "\n",
       "    .dataframe tbody tr th {\n",
       "        vertical-align: top;\n",
       "    }\n",
       "\n",
       "    .dataframe thead th {\n",
       "        text-align: right;\n",
       "    }\n",
       "<\/style>\n",
       "<table border=\"1\" class=\"dataframe\">\n",
       "  <thead>\n",
       "    <tr style=\"text-align: right;\">\n",
       "      <th><\/th>\n",
       "      <th>label<\/th>\n",
       "      <th>review<\/th>\n",
       "    <\/tr>\n",
       "  <\/thead>\n",
       "  <tbody>\n",
       "    <tr>\n",
       "      <th>0<\/th>\n",
       "      <td>neg<\/td>\n",
       "      <td>how do films like mouse hunt get into theatres...<\/td>\n",
       "    <\/tr>\n",
       "    <tr>\n",
       "      <th>1<\/th>\n",
       "      <td>neg<\/td>\n",
       "      <td>some talented actresses are blessed with a dem...<\/td>\n",
       "    <\/tr>\n",
       "    <tr>\n",
       "      <th>2<\/th>\n",
       "      <td>pos<\/td>\n",
       "      <td>this has been an extraordinary year for austra...<\/td>\n",
       "    <\/tr>\n",
       "    <tr>\n",
       "      <th>3<\/th>\n",
       "      <td>pos<\/td>\n",
       "      <td>according to hollywood movies made in last few...<\/td>\n",
       "    <\/tr>\n",
       "    <tr>\n",
       "      <th>4<\/th>\n",
       "      <td>neg<\/td>\n",
       "      <td>my first press screening of 1998 and already i...<\/td>\n",
       "    <\/tr>\n",
       "  <\/tbody>\n",
       "<\/table>\n",
       "<\/div>"
      ]
     },
     "metadata":{
      
     },
     "output_type":"display_data"
    }
   ],
   "metadata":{
    "datalore":{
     "node_id":"QCHucWN5Yet8UbSLEhQUxo",
     "type":"CODE",
     "hide_input_from_viewers":false,
     "hide_output_from_viewers":false,
     "report_properties":{
      "rowId":"MYJ7GeokqovYatAaVtTSmc"
     }
    }
   }
  },
  {
   "cell_type":"code",
   "source":[
    "len(df)"
   ],
   "execution_count":4,
   "outputs":[
    {
     "data":{
      "text\/plain":[
       "2000"
      ]
     },
     "metadata":{
      
     },
     "output_type":"display_data"
    }
   ],
   "metadata":{
    "datalore":{
     "node_id":"0qF0niGVWQZJZMNlKYT2m0",
     "type":"CODE",
     "hide_input_from_viewers":true,
     "hide_output_from_viewers":true
    }
   }
  },
  {
   "cell_type":"markdown",
   "source":[
    "**TASK: Check to see if there are any missing values in the dataframe.**"
   ],
   "attachments":{
    
   },
   "metadata":{
    "datalore":{
     "node_id":"mnom4UrIbEGt1M7Nt2Gkyz",
     "type":"MD",
     "hide_input_from_viewers":false,
     "hide_output_from_viewers":false,
     "report_properties":{
      "rowId":"iTE3u5Oj3SVRmcSCfwh4TA"
     }
    }
   }
  },
  {
   "cell_type":"code",
   "source":[
    "missing_labels = df['label'].isnull().sum()\n",
    "missing_labels"
   ],
   "execution_count":5,
   "outputs":[
    {
     "data":{
      "text\/plain":[
       "0"
      ]
     },
     "metadata":{
      
     },
     "output_type":"display_data"
    }
   ],
   "metadata":{
    "datalore":{
     "node_id":"LPWTDs2uWfwTwUo3SAsmEf",
     "type":"CODE",
     "hide_input_from_viewers":true,
     "hide_output_from_viewers":true
    }
   }
  },
  {
   "cell_type":"code",
   "source":[
    "missing_values = df['review'].isnull().sum()\n",
    "missing_values"
   ],
   "execution_count":6,
   "outputs":[
    {
     "data":{
      "text\/plain":[
       "35"
      ]
     },
     "metadata":{
      
     },
     "output_type":"display_data"
    }
   ],
   "metadata":{
    "datalore":{
     "node_id":"xNoUNDVHsqGMlrnnmseIKz",
     "type":"CODE",
     "hide_input_from_viewers":true,
     "hide_output_from_viewers":true
    }
   }
  },
  {
   "cell_type":"markdown",
   "source":[
    "**TASK: Remove any reviews that are NaN**"
   ],
   "attachments":{
    
   },
   "metadata":{
    "datalore":{
     "node_id":"k3LKvbtvMB44GwOCy3Kygw",
     "type":"MD",
     "hide_input_from_viewers":false,
     "hide_output_from_viewers":false,
     "report_properties":{
      "rowId":"uaFslf2iuSEwI8CzM8lT71"
     }
    }
   }
  },
  {
   "cell_type":"code",
   "source":[
    "df_new = df.dropna()\n",
    "df_new.isnull().sum()\n",
    "\n",
    "# nebo\n",
    "#df_new = df.drop(df[df['review'].isnull()].index)\n",
    "#df_new"
   ],
   "execution_count":36,
   "outputs":[
    {
     "data":{
      "text\/html":[
       "<pre>label     0\n",
       "review    0\n",
       "dtype: int64<\/pre>"
      ]
     },
     "metadata":{
      
     },
     "output_type":"display_data"
    }
   ],
   "metadata":{
    "datalore":{
     "node_id":"FpeCWxBn1JCE4a4jIl3zqS",
     "type":"CODE",
     "hide_input_from_viewers":true,
     "hide_output_from_viewers":true
    }
   }
  },
  {
   "cell_type":"code",
   "source":[
    "len(df_new)"
   ],
   "execution_count":37,
   "outputs":[
    {
     "data":{
      "text\/plain":[
       "1965"
      ]
     },
     "metadata":{
      
     },
     "output_type":"display_data"
    }
   ],
   "metadata":{
    "datalore":{
     "node_id":"ABoKtoch4xoNOG68jeIbmi",
     "type":"CODE",
     "hide_input_from_viewers":true,
     "hide_output_from_viewers":true
    }
   }
  },
  {
   "cell_type":"markdown",
   "source":[
    "**TASK: Check to see if any reviews are blank strings and not just NaN. Note: This means a review text could just be: \"\" or \"  \" or some other larger blank string. How would you check for this? Note: There are many ways! Once you've discovered the reviews that are blank strings, go ahead and remove them as well. [Click me for a big hint](https:\/\/pandas.pydata.org\/pandas-docs\/stable\/reference\/api\/pandas.Series.str.isspace.html)**"
   ],
   "attachments":{
    
   },
   "metadata":{
    "datalore":{
     "node_id":"XZDm14yTci5TjH8HhAz0YX",
     "type":"MD",
     "hide_input_from_viewers":false,
     "hide_output_from_viewers":false,
     "report_properties":{
      "rowId":"Mvg40iyb33ekqxSVSMR3vQ"
     }
    }
   }
  },
  {
   "cell_type":"code",
   "source":[
    "df_new_dropped = df_new[~df_new['review'].str.isspace()]\n",
    "df_new_dropped\n",
    "\n",
    "# ~ is used to inverse what is coded. In this case create a df from all that is not isspace\n",
    "\n",
    "# or\n",
    "# empty_string_reviews = df_new[df_new['review'].apply(lambda x: str(x).isspace())]\n",
    "# df_new_dropped = df_new.drop(empty_string_reviews.index)\n"
   ],
   "execution_count":43,
   "outputs":[
    {
     "data":{
      "text\/html":[
       "<div>\n",
       "<style scoped>\n",
       "    .dataframe tbody tr th:only-of-type {\n",
       "        vertical-align: middle;\n",
       "    }\n",
       "\n",
       "    .dataframe tbody tr th {\n",
       "        vertical-align: top;\n",
       "    }\n",
       "\n",
       "    .dataframe thead th {\n",
       "        text-align: right;\n",
       "    }\n",
       "<\/style>\n",
       "<table border=\"1\" class=\"dataframe\">\n",
       "  <thead>\n",
       "    <tr style=\"text-align: right;\">\n",
       "      <th><\/th>\n",
       "      <th>label<\/th>\n",
       "      <th>review<\/th>\n",
       "    <\/tr>\n",
       "  <\/thead>\n",
       "  <tbody>\n",
       "    <tr>\n",
       "      <th>0<\/th>\n",
       "      <td>neg<\/td>\n",
       "      <td>how do films like mouse hunt get into theatres...<\/td>\n",
       "    <\/tr>\n",
       "    <tr>\n",
       "      <th>1<\/th>\n",
       "      <td>neg<\/td>\n",
       "      <td>some talented actresses are blessed with a dem...<\/td>\n",
       "    <\/tr>\n",
       "    <tr>\n",
       "      <th>2<\/th>\n",
       "      <td>pos<\/td>\n",
       "      <td>this has been an extraordinary year for austra...<\/td>\n",
       "    <\/tr>\n",
       "    <tr>\n",
       "      <th>3<\/th>\n",
       "      <td>pos<\/td>\n",
       "      <td>according to hollywood movies made in last few...<\/td>\n",
       "    <\/tr>\n",
       "    <tr>\n",
       "      <th>4<\/th>\n",
       "      <td>neg<\/td>\n",
       "      <td>my first press screening of 1998 and already i...<\/td>\n",
       "    <\/tr>\n",
       "    <tr>\n",
       "      <th>...<\/th>\n",
       "      <td>...<\/td>\n",
       "      <td>...<\/td>\n",
       "    <\/tr>\n",
       "    <tr>\n",
       "      <th>1995<\/th>\n",
       "      <td>pos<\/td>\n",
       "      <td>i like movies with albert brooks , and i reall...<\/td>\n",
       "    <\/tr>\n",
       "    <tr>\n",
       "      <th>1996<\/th>\n",
       "      <td>pos<\/td>\n",
       "      <td>it might surprise some to know that joel and e...<\/td>\n",
       "    <\/tr>\n",
       "    <tr>\n",
       "      <th>1997<\/th>\n",
       "      <td>pos<\/td>\n",
       "      <td>the verdict : spine-chilling drama from horror...<\/td>\n",
       "    <\/tr>\n",
       "    <tr>\n",
       "      <th>1998<\/th>\n",
       "      <td>pos<\/td>\n",
       "      <td>i want to correct what i wrote in a former ret...<\/td>\n",
       "    <\/tr>\n",
       "    <tr>\n",
       "      <th>1999<\/th>\n",
       "      <td>pos<\/td>\n",
       "      <td>a couple of months ago , when i first download...<\/td>\n",
       "    <\/tr>\n",
       "  <\/tbody>\n",
       "<\/table>\n",
       "<p>1938 rows × 2 columns<\/p>\n",
       "<\/div>"
      ]
     },
     "metadata":{
      
     },
     "output_type":"display_data"
    }
   ],
   "metadata":{
    "datalore":{
     "node_id":"KqcNgdaKUoDmGbs5KMa6gW",
     "type":"CODE",
     "hide_input_from_viewers":true,
     "hide_output_from_viewers":true
    }
   }
  },
  {
   "cell_type":"code",
   "source":[
    "len(df_new_dropped)"
   ],
   "execution_count":42,
   "outputs":[
    {
     "data":{
      "text\/plain":[
       "1938"
      ]
     },
     "metadata":{
      
     },
     "output_type":"display_data"
    }
   ],
   "metadata":{
    "datalore":{
     "node_id":"OhYECmqtTmAOjVzJDvRNJv",
     "type":"CODE",
     "hide_input_from_viewers":true,
     "hide_output_from_viewers":true
    }
   }
  },
  {
   "cell_type":"markdown",
   "source":[
    "**TASK: Confirm the value counts per label:**"
   ],
   "attachments":{
    
   },
   "metadata":{
    "datalore":{
     "node_id":"ZNffF6ef031kcBD1uIxbvE",
     "type":"MD",
     "hide_input_from_viewers":false,
     "hide_output_from_viewers":false,
     "report_properties":{
      "rowId":"XsHBKrCbZkAv0PQt3Ak4Q2"
     }
    }
   }
  },
  {
   "cell_type":"code",
   "source":[
    "ax = sns.countplot(x='label', data=df_new_dropped)\n",
    "\n",
    "fig = plt.gcf()\n",
    "\n",
    "# loop to print the number of datapoints in each bar\n",
    "for p in ax.patches:\n",
    "    height = p.get_height()  # get the height of each bar\n",
    "    # add text to each bar using ax.text\n",
    "    ax.text(x = p.get_x()+(p.get_width()\/2), \n",
    "            y = height, \n",
    "            s = '{:.0f}'.format(height), \n",
    "            ha = 'center') \n"
   ],
   "execution_count":51,
   "outputs":[
    {
     "data":{
      "image\/png":"[encoded data removed]"
     },
     "metadata":{
      "image\/png":{
       
      }
     },
     "output_type":"display_data"
    }
   ],
   "metadata":{
    "datalore":{
     "node_id":"YUAAJUXpot4t9livWFP0Rn",
     "type":"CODE",
     "hide_input_from_viewers":true,
     "hide_output_from_viewers":true
    }
   }
  },
  {
   "cell_type":"code",
   "source":[
    
   ],
   "execution_count":null,
   "outputs":[
    
   ],
   "metadata":{
    "datalore":{
     "node_id":"xMqv9XwEpn348B4uF7SAtI",
     "type":"CODE",
     "hide_input_from_viewers":false,
     "hide_output_from_viewers":false,
     "report_properties":{
      "rowId":"BOZ333U0cJDrkVcoFMU2lx"
     }
    }
   }
  },
  {
   "cell_type":"markdown",
   "source":[
    "## EDA on Bag of Words\n",
    "\n",
    "**Bonus Task: Can you figure out how to use a CountVectorizer model to get the top 20 words (that are not english stop words) per label type? Note, this is a bonus task as we did not show this in the lectures. But a quick cursory Google search should put you on the right path.  [Click me for a big hint](https:\/\/stackoverflow.com\/questions\/16288497\/find-the-most-common-term-in-scikit-learn-classifier)**"
   ],
   "attachments":{
    
   },
   "metadata":{
    "datalore":{
     "node_id":"RyaYohgMsSVKm4QSNX8tHP",
     "type":"MD",
     "hide_input_from_viewers":false,
     "hide_output_from_viewers":false,
     "report_properties":{
      "rowId":"9lzXA1ZH3EVkXERFk7kDyJ"
     }
    }
   }
  },
  {
   "cell_type":"code",
   "source":[
    "\n",
    "from sklearn.feature_extraction.text import CountVectorizer\n",
    "\n",
    "custom_stop_words = ['film', 'movie', 'character', 'films', 'movies', 'does', 'really', 'actor', 'actors', 'actress', 'story', 'plot', 'characters', 'scene']\n",
    "\n",
    "# Append list of specific stopwords with the English ones present in the CountVectorizer\n",
    "custom_stop_words.extend(CountVectorizer(stop_words='english').get_stop_words())\n",
    "\n",
    "def get_top_n_words(corpus, n=None):\n",
    "    \n",
    "    vec = CountVectorizer(stop_words=custom_stop_words)\n",
    "    bag_of_words = vec.fit_transform(corpus)\n",
    "    sum_words = bag_of_words.sum(axis=0) \n",
    "    words_freq = [(word, sum_words[0, idx]) for word, idx in vec.vocabulary_.items()]\n",
    "    words_freq = sorted(words_freq, key = lambda x: x[1], reverse=True)\n",
    "    return words_freq[:n]"
   ],
   "execution_count":70,
   "outputs":[
    
   ],
   "metadata":{
    "datalore":{
     "node_id":"ApeDHwAaKtzoUDPKKEgitK",
     "type":"CODE",
     "hide_input_from_viewers":true,
     "hide_output_from_viewers":true
    }
   }
  },
  {
   "cell_type":"code",
   "source":[
    "positive_reviews = df_new_dropped[df_new_dropped['label'] == 'pos']\n",
    "get_top_n_words(positive_reviews['review'],20)"
   ],
   "execution_count":71,
   "outputs":[
    {
     "data":{
      "text\/plain":[
       "[('like', 1721),\n",
       " ('just', 1273),\n",
       " ('good', 1193),\n",
       " ('time', 1175),\n",
       " ('life', 1032),\n",
       " ('way', 864),\n",
       " ('best', 788),\n",
       " ('people', 769),\n",
       " ('make', 764),\n",
       " ('little', 751),\n",
       " ('man', 728),\n",
       " ('new', 702),\n",
       " ('great', 692),\n",
       " ('world', 646),\n",
       " ('love', 634),\n",
       " ('scenes', 604),\n",
       " ('doesn', 576),\n",
       " ('director', 564),\n",
       " ('don', 555),\n",
       " ('makes', 543)]"
      ]
     },
     "metadata":{
      
     },
     "output_type":"display_data"
    }
   ],
   "metadata":{
    "datalore":{
     "node_id":"PyELnK4kbb8p9kDLgd0gYF",
     "type":"CODE",
     "hide_input_from_viewers":true,
     "hide_output_from_viewers":true
    }
   }
  },
  {
   "cell_type":"code",
   "source":[
    "negative_reviews = df_new_dropped[df_new_dropped['label'] == 'neg']\n",
    "get_top_n_words(negative_reviews['review'],20)"
   ],
   "execution_count":73,
   "outputs":[
    {
     "data":{
      "text\/plain":[
       "[('like', 1808),\n",
       " ('just', 1480),\n",
       " ('time', 1127),\n",
       " ('good', 1117),\n",
       " ('bad', 997),\n",
       " ('make', 813),\n",
       " ('way', 734),\n",
       " ('little', 696),\n",
       " ('don', 683),\n",
       " ('doesn', 648),\n",
       " ('action', 635),\n",
       " ('people', 628),\n",
       " ('director', 627),\n",
       " ('know', 617),\n",
       " ('scenes', 608),\n",
       " ('man', 607),\n",
       " ('big', 583),\n",
       " ('new', 553),\n",
       " ('better', 514),\n",
       " ('end', 511)]"
      ]
     },
     "metadata":{
      
     },
     "output_type":"display_data"
    }
   ],
   "metadata":{
    "datalore":{
     "node_id":"aBYz5ToPp30BL7huqEpXAS",
     "type":"CODE",
     "hide_input_from_viewers":false,
     "hide_output_from_viewers":false,
     "report_properties":{
      "rowId":"SuDomFufSd7TSuTCPX62ZQ"
     }
    }
   }
  },
  {
   "cell_type":"markdown",
   "source":[
    "### Training and Data\n",
    "\n",
    "**TASK: Split the data into features and a label (X and y) and then preform a train\/test split. You may use whatever settings you like. To compare your results to the solution notebook, use `test_size=0.20, random_state=101`**"
   ],
   "attachments":{
    
   },
   "metadata":{
    "datalore":{
     "node_id":"BH48gVjGHdfrGzDvNwUwE0",
     "type":"MD",
     "hide_input_from_viewers":false,
     "hide_output_from_viewers":false,
     "report_properties":{
      "rowId":"nT2bHgQFptqPXdUMr4Q6YN"
     }
    }
   }
  },
  {
   "cell_type":"code",
   "source":[
    "X = df_new_dropped['review']"
   ],
   "execution_count":59,
   "outputs":[
    {
     "data":{
      "text\/html":[
       "<pre>0       how do films like mouse hunt get into theatres...\n",
       "1       some talented actresses are blessed with a dem...\n",
       "2       this has been an extraordinary year for austra...\n",
       "3       according to hollywood movies made in last few...\n",
       "4       my first press screening of 1998 and already i...\n",
       "                              ...                        \n",
       "1995    i like movies with albert brooks , and i reall...\n",
       "1996    it might surprise some to know that joel and e...\n",
       "1997    the verdict : spine-chilling drama from horror...\n",
       "1998    i want to correct what i wrote in a former ret...\n",
       "1999    a couple of months ago , when i first download...\n",
       "Name: review, Length: 1938, dtype: object<\/pre>"
      ]
     },
     "metadata":{
      
     },
     "output_type":"display_data"
    }
   ],
   "metadata":{
    "datalore":{
     "node_id":"SDzUluX4QvtU3L2bEtcvYz",
     "type":"CODE",
     "hide_input_from_viewers":false,
     "hide_output_from_viewers":false,
     "report_properties":{
      "rowId":"wt98liPiMUDmAarYvpOtPB"
     }
    }
   }
  },
  {
   "cell_type":"code",
   "source":[
    "y = df_new_dropped['label']"
   ],
   "execution_count":60,
   "outputs":[
    {
     "data":{
      "text\/html":[
       "<pre>0       neg\n",
       "1       neg\n",
       "2       pos\n",
       "3       pos\n",
       "4       neg\n",
       "       ... \n",
       "1995    pos\n",
       "1996    pos\n",
       "1997    pos\n",
       "1998    pos\n",
       "1999    pos\n",
       "Name: label, Length: 1938, dtype: object<\/pre>"
      ]
     },
     "metadata":{
      
     },
     "output_type":"display_data"
    }
   ],
   "metadata":{
    "datalore":{
     "node_id":"JUQMc8QJ6gotCUPImuTU2e",
     "type":"CODE",
     "hide_input_from_viewers":true,
     "hide_output_from_viewers":true
    }
   }
  },
  {
   "cell_type":"code",
   "source":[
    "from sklearn.model_selection import train_test_split\n",
    "\n",
    "X_train, X_test, y_train, y_test = train_test_split(X, y, test_size=0.2, random_state=101)"
   ],
   "execution_count":61,
   "outputs":[
    
   ],
   "metadata":{
    "datalore":{
     "node_id":"u0Gt612XpAo4kQXTIcgxrX",
     "type":"CODE",
     "hide_input_from_viewers":true,
     "hide_output_from_viewers":true
    }
   }
  },
  {
   "cell_type":"markdown",
   "source":[
    "### Training a Mode\n",
    "\n",
    "**TASK: Create a PipeLine that will both create a TF-IDF Vector out of the raw text data and fit a supervised learning model of your choice. Then fit that pipeline on the training data.**"
   ],
   "attachments":{
    
   },
   "metadata":{
    "datalore":{
     "node_id":"NBz2mgWuuz58QPNJsv9KT0",
     "type":"MD",
     "hide_input_from_viewers":false,
     "hide_output_from_viewers":false,
     "report_properties":{
      "rowId":"9PtGi1wrVvkDIPQdC1gLne"
     }
    }
   }
  },
  {
   "cell_type":"code",
   "source":[
    "from sklearn.pipeline import Pipeline\n",
    "from sklearn.naive_bayes import MultinomialNB\n",
    "from sklearn.feature_extraction.text import  TfidfVectorizer\n",
    "from sklearn.model_selection import GridSearchCV"
   ],
   "execution_count":62,
   "outputs":[
    
   ],
   "metadata":{
    "datalore":{
     "node_id":"WDvtyriYkoKvU1HlJQ2tgH",
     "type":"CODE",
     "hide_input_from_viewers":false,
     "hide_output_from_viewers":false,
     "report_properties":{
      "rowId":"LimoQiIdB7V9JR4JzcOMK8"
     }
    }
   }
  },
  {
   "cell_type":"code",
   "source":[
    "\n",
    "#I can use SVC classifier, which has better performance than Naive Bayes\n",
    "\n",
    "pipeline = Pipeline([\n",
    "    ('tfidf', TfidfVectorizer(stop_words=custom_stop_words)),\n",
    "    ('nb', MultinomialNB())\n",
    "])\n",
    "\n",
    "params = {\n",
    "    'tfidf__max_features': [500, 1000, 2000],\n",
    "    'tfidf__ngram_range': [(1, 1), (1, 2), (1,3)],\n",
    "    'nb__alpha': [0.1, 0.5, 1]\n",
    "}\n",
    "\n",
    "grid = GridSearchCV(pipeline, params, cv=4)\n",
    "\n",
    "# I can fit directly to raw text data X_train  because it was vectorized first inside the pipeine\n",
    "grid.fit(X_train, y_train)\n",
    "\n",
    "print('Best parameters:', grid.best_params_)\n",
    "print('Best score:', grid.best_score_)\n",
    "\n",
    "pred = grid.best_estimator_.predict(X_test)"
   ],
   "execution_count":63,
   "outputs":[
    {
     "name":"stdout",
     "text":[
      "Best parameters: {'nb__alpha': 0.5, 'tfidf__max_features': 2000, 'tfidf__ngram_range': (1, 2)}\n",
      "Best score: 0.8064429659820453\n"
     ],
     "output_type":"stream"
    }
   ],
   "metadata":{
    "datalore":{
     "node_id":"hGI3VzQeUnv558YKDe0cEc",
     "type":"CODE",
     "hide_input_from_viewers":true,
     "hide_output_from_viewers":true
    }
   }
  },
  {
   "cell_type":"markdown",
   "source":[
    "**TASK: Create a classification report and plot a confusion matrix based on the results of your PipeLine.**"
   ],
   "attachments":{
    
   },
   "metadata":{
    "datalore":{
     "node_id":"eP8iI8yXkdrEme8UMR7Dqm",
     "type":"MD",
     "hide_input_from_viewers":false,
     "hide_output_from_viewers":false,
     "report_properties":{
      "rowId":"j1jVga8zfprLcJtQsTMxSR"
     }
    }
   }
  },
  {
   "cell_type":"code",
   "source":[
    "from sklearn.metrics import classification_report\n",
    "print(classification_report(y_test, pred))"
   ],
   "execution_count":69,
   "outputs":[
    {
     "name":"stdout",
     "text":[
      "              precision    recall  f1-score   support\n",
      "\n",
      "         neg       0.77      0.84      0.81       191\n",
      "         pos       0.83      0.76      0.79       197\n",
      "\n",
      "    accuracy                           0.80       388\n",
      "   macro avg       0.80      0.80      0.80       388\n",
      "weighted avg       0.80      0.80      0.80       388\n",
      "\n"
     ],
     "output_type":"stream"
    }
   ],
   "metadata":{
    "datalore":{
     "node_id":"WnLSRvoFMk4pqBul7yti4s",
     "type":"CODE",
     "hide_input_from_viewers":false,
     "hide_output_from_viewers":false,
     "report_properties":{
      "rowId":"y4qjGbhmnmZeXzbGdHDjNd"
     }
    }
   }
  },
  {
   "cell_type":"code",
   "source":[
    "from sklearn.metrics import ConfusionMatrixDisplay\n",
    "ConfusionMatrixDisplay.from_estimator(grid.best_estimator_, X_test, y_tes"
   ],
   "execution_count":68,
   "outputs":[
    {
     "data":{
      "text\/plain":[
       "<sklearn.metrics._plot.confusion_matrix.ConfusionMatrixDisplay at 0x7f612b629a30>"
      ]
     },
     "metadata":{
      
     },
     "output_type":"display_data"
    },
    {
     "data":{
      "image\/png":"[encoded data removed]"
     },
     "metadata":{
      "image\/png":{
       
      }
     },
     "output_type":"display_data"
    }
   ],
   "metadata":{
    "datalore":{
     "node_id":"vsCplQNLkZDl7N2AO9HTSH",
     "type":"CODE",
     "hide_input_from_viewers":true,
     "hide_output_from_viewers":true
    }
   }
  },
  {
   "cell_type":"markdown",
   "source":[
    "## Great job!"
   ],
   "attachments":{
    
   },
   "metadata":{
    "datalore":{
     "node_id":"AZIMpkmMsqka3uEJzJUqIs",
     "type":"MD",
     "hide_input_from_viewers":false,
     "hide_output_from_viewers":false,
     "report_properties":{
      "rowId":"cnfegsVD8E7dnIhZl4APl2"
     }
    }
   }
  }
 ],
 "metadata":{
  "kernelspec":{
   "display_name":"Python",
   "language":"python",
   "name":"python"
  },
  "datalore":{
   "computation_mode":"JUPYTER",
   "package_manager":"pip",
   "base_environment":"default",
   "packages":[
    
   ],
   "report_row_ids":[
    "ViDhLk0bG98aXOs955XfU4",
    "DWBJPku76izVxV9INUvu8y",
    "fPuE9r2Uff2NLN42xQJJbY",
    "YjOXMgqKj2wzSCbxAtsNrU",
    "ThFomxN3ANOjMjgYMmdwgK",
    "yX5yqX5GL7wfq1LNVOwATv",
    "MYJ7GeokqovYatAaVtTSmc",
    "iTE3u5Oj3SVRmcSCfwh4TA",
    "mDYDNxOIQQ2TxcgY6rOrtE",
    "u743aCBTXY7xXWkOcBPiEX",
    "uaFslf2iuSEwI8CzM8lT71",
    "Mvg40iyb33ekqxSVSMR3vQ",
    "xnPaWgjS3JjouRm9Dk5Wq9",
    "6XELo23xDBieu65HXcmxbR",
    "GrSBbwM6mKex0NvOHWGQOQ",
    "XsHBKrCbZkAv0PQt3Ak4Q2",
    "wAPmmcMELMVTe8Pz1flzNi",
    "BOZ333U0cJDrkVcoFMU2lx",
    "9lzXA1ZH3EVkXERFk7kDyJ",
    "MBfNiX9WagTDT2TbMA7s1p",
    "SuDomFufSd7TSuTCPX62ZQ",
    "2YmdTd5LBPxeTQWBWS0krg",
    "nT2bHgQFptqPXdUMr4Q6YN",
    "wt98liPiMUDmAarYvpOtPB",
    "9PtGi1wrVvkDIPQdC1gLne",
    "LimoQiIdB7V9JR4JzcOMK8",
    "rzbKh0Wyaa1prVOoyQ8EDC",
    "j1jVga8zfprLcJtQsTMxSR",
    "y4qjGbhmnmZeXzbGdHDjNd",
    "vPhACHVBYmekKZq0ZbvRaC",
    "cIYL1Fcg2cdKulpteGa24n",
    "cnfegsVD8E7dnIhZl4APl2"
   ],
   "version":3
  }
 },
 "nbformat":4,
 "nbformat_minor":4
}